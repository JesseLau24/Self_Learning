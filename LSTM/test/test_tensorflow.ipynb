{
 "cells": [
  {
   "cell_type": "code",
   "execution_count": 1,
   "id": "7c4ed6ef-2818-4206-89b3-0eae5a5f02c6",
   "metadata": {},
   "outputs": [
    {
     "name": "stdout",
     "output_type": "stream",
     "text": [
      "TensorFlow version: 2.17.0\n",
      "TensorFlow is using the CPU.\n",
      "Devices available:\n",
      "PhysicalDevice(name='/physical_device:CPU:0', device_type='CPU')\n",
      "\n",
      "Testing a simple tensor operation:\n",
      "Result of matrix multiplication:\n",
      "[[19. 22.]\n",
      " [43. 50.]]\n"
     ]
    }
   ],
   "source": [
    "import tensorflow as tf\n",
    "\n",
    "# 检查 TensorFlow 版本\n",
    "print(\"TensorFlow version:\", tf.__version__)\n",
    "\n",
    "# 检查 TensorFlow 是否检测到 GPU\n",
    "if tf.config.list_physical_devices('GPU'):\n",
    "    print(\"TensorFlow is using the GPU.\")\n",
    "else:\n",
    "    print(\"TensorFlow is using the CPU.\")\n",
    "\n",
    "# 显示设备列表\n",
    "print(\"Devices available:\")\n",
    "for device in tf.config.list_physical_devices():\n",
    "    print(device)\n",
    "\n",
    "# 创建一个简单的张量运算以确认计算设备\n",
    "print(\"\\nTesting a simple tensor operation:\")\n",
    "a = tf.constant([[1.0, 2.0], [3.0, 4.0]])\n",
    "b = tf.constant([[5.0, 6.0], [7.0, 8.0]])\n",
    "c = tf.matmul(a, b)\n",
    "\n",
    "print(\"Result of matrix multiplication:\")\n",
    "print(c.numpy())\n"
   ]
  },
  {
   "cell_type": "code",
   "execution_count": 2,
   "id": "ddcfc53f-b9f2-422c-9998-b59838b7b1ba",
   "metadata": {},
   "outputs": [
    {
     "name": "stdout",
     "output_type": "stream",
     "text": [
      "TensorFlow version: 2.17.0\n",
      "Result of matrix multiplication:\n",
      " tf.Tensor(\n",
      "[[19 22]\n",
      " [43 50]], shape=(2, 2), dtype=int32)\n"
     ]
    }
   ],
   "source": [
    "import tensorflow as tf\n",
    "\n",
    "# 测试 TensorFlow 版本和简单的矩阵乘法\n",
    "print(\"TensorFlow version:\", tf.__version__)\n",
    "\n",
    "# 创建两个张量\n",
    "a = tf.constant([[1, 2], [3, 4]])\n",
    "b = tf.constant([[5, 6], [7, 8]])\n",
    "\n",
    "# 进行矩阵乘法\n",
    "c = tf.matmul(a, b)\n",
    "print(\"Result of matrix multiplication:\\n\", c)\n"
   ]
  },
  {
   "cell_type": "code",
   "execution_count": 3,
   "id": "fc1897bd-070d-4f91-b660-519e34b38150",
   "metadata": {},
   "outputs": [
    {
     "name": "stdout",
     "output_type": "stream",
     "text": [
      "NumPy version: 1.26.4\n",
      "Sum of array: 15\n"
     ]
    }
   ],
   "source": [
    "import numpy as np\n",
    "\n",
    "# 测试 NumPy 版本和数组操作\n",
    "print(\"NumPy version:\", np.__version__)\n",
    "\n",
    "# 创建一个 NumPy 数组并进行加法运算\n",
    "arr = np.array([1, 2, 3, 4, 5])\n",
    "arr_sum = np.sum(arr)\n",
    "print(\"Sum of array:\", arr_sum)\n"
   ]
  },
  {
   "cell_type": "code",
   "execution_count": 4,
   "id": "67c2ab90-0272-4ac0-89fa-88f9294998e8",
   "metadata": {},
   "outputs": [
    {
     "name": "stdout",
     "output_type": "stream",
     "text": [
      "Pandas version: 2.2.3\n",
      "DataFrame:\n",
      "       Name  Age\n",
      "0    Alice   25\n",
      "1      Bob   30\n",
      "2  Charlie   35\n"
     ]
    }
   ],
   "source": [
    "import pandas as pd\n",
    "\n",
    "# 测试 Pandas 版本和创建 DataFrame\n",
    "print(\"Pandas version:\", pd.__version__)\n",
    "\n",
    "# 创建一个简单的 DataFrame\n",
    "data = {'Name': ['Alice', 'Bob', 'Charlie'],\n",
    "        'Age': [25, 30, 35]}\n",
    "df = pd.DataFrame(data)\n",
    "print(\"DataFrame:\\n\", df)\n"
   ]
  },
  {
   "cell_type": "code",
   "execution_count": 5,
   "id": "093731bd-303c-42d0-8ee6-bb1a99ce1072",
   "metadata": {},
   "outputs": [
    {
     "name": "stdout",
     "output_type": "stream",
     "text": [
      "Matplotlib version: 3.9.2\n"
     ]
    },
    {
     "data": {
      "image/png": "[encoded data removed]",
      "text/plain": [
       "<Figure size 640x480 with 1 Axes>"
      ]
     },
     "metadata": {},
     "output_type": "display_data"
    }
   ],
   "source": [
    "import matplotlib\n",
    "\n",
    "# 获取 Matplotlib 版本\n",
    "print(\"Matplotlib version:\", matplotlib.__version__)\n",
    "\n",
    "# 创建简单的折线图\n",
    "import matplotlib.pyplot as plt\n",
    "\n",
    "x = [0, 1, 2, 3]\n",
    "y = [0, 1, 4, 9]\n",
    "plt.plot(x, y)\n",
    "plt.title(\"Test Plot\")\n",
    "plt.xlabel(\"x axis\")\n",
    "plt.ylabel(\"y axis\")\n",
    "plt.show()\n"
   ]
  },
  {
   "cell_type": "code",
   "execution_count": 6,
   "id": "a8161f1f-ab24-422b-b2f8-81a82652d005",
   "metadata": {},
   "outputs": [
    {
     "name": "stdout",
     "output_type": "stream",
     "text": [
      "Python executable path: /home/jesse/Projects/Self_Learning/myenvs/sl_tf/bin/python3\n"
     ]
    }
   ],
   "source": [
    "import sys\n",
    "\n",
    "# 打印当前的 Python 可执行文件路径，确认 Jupyter Notebook 的环境\n",
    "print(\"Python executable path:\", sys.executable)\n"
   ]
  },
  {
   "cell_type": "code",
   "execution_count": 7,
   "id": "1ec2097b-c892-41a9-ba68-e34050395e83",
   "metadata": {},
   "outputs": [
    {
     "name": "stdout",
     "output_type": "stream",
     "text": [
      "\n",
      "      This is a new beginning!\n",
      "      I am going to train my simple basic LSTM Neural Network!\n",
      "      It would be used for predicting stocks and cryptos price actions.\n",
      "      I don't know if it is going to succeed, but I am excited!!!\n",
      "\n",
      "      Even if it doesn't work, the experience would still be valuable.\n",
      "      It is a learning process.\n",
      "\n",
      "      So fingers crossed!\n",
      "      加油！！！\n",
      "      頑張って！！！\n",
      "      화이팅！！！\n",
      "\n"
     ]
    }
   ],
   "source": [
    "print('''\n",
    "      This is a new beginning!\n",
    "      I am going to train my simple basic LSTM Neural Network!\n",
    "      It would be used for predicting stocks and cryptos price actions.\n",
    "      I don't know if it is going to succeed, but I am excited!!!\n",
    "\n",
    "      Even if it doesn't work, the experience would still be valuable.\n",
    "      It is a learning process.\n",
    "\n",
    "      So fingers crossed!\n",
    "      加油！！！\n",
    "      頑張って！！！\n",
    "      화이팅！！！\n",
    "''')"
   ]
  },
  {
   "cell_type": "code",
   "execution_count": null,
   "id": "b5d137fe-2437-4793-9bca-86bdb9ef19e8",
   "metadata": {},
   "outputs": [],
   "source": []
  }
 ],
 "metadata": {
  "kernelspec": {
   "display_name": "Python 3 (ipykernel)",
   "language": "python",
   "name": "python3"
  },
  "language_info": {
   "codemirror_mode": {
    "name": "ipython",
    "version": 3
   },
   "file_extension": ".py",
   "mimetype": "text/x-python",
   "name": "python",
   "nbconvert_exporter": "python",
   "pygments_lexer": "ipython3",
   "version": "3.11.2"
  }
 },
 "nbformat": 4,
 "nbformat_minor": 5
}
