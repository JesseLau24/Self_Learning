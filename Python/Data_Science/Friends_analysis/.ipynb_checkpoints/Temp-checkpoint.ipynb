{
 "cells": [
  {
   "cell_type": "code",
   "execution_count": 2,
   "id": "2fde51ef-0aa3-496f-b701-6e8939018c06",
   "metadata": {},
   "outputs": [
    {
     "name": "stdout",
     "output_type": "stream",
     "text": [
      "hello, world\n"
     ]
    }
   ],
   "source": [
    "print(\"hello, world\")"
   ]
  },
  {
   "cell_type": "code",
   "execution_count": null,
   "id": "8ff57109-3f4d-4638-87fd-fa0e1e85f101",
   "metadata": {},
   "outputs": [],
   "source": [
    "import os\n",
    "import numpy as np\n",
    "import matplotlib.pyplot as plt\n",
    "import seaborn as sns\n",
    "from collections import Counter\n",
    "from scipy.cluster.hierarchy import linkage, dendrogram\n",
    "\n",
    "# Define the KL divergence function with epsilon for smoothing\n",
    "def kl_divergence(p, q, epsilon=1e-10):\n",
    "    p = np.asarray(p) + epsilon\n",
    "    q = np.asarray(q) + epsilon\n",
    "    return np.sum(p * np.log(p / q))\n",
    "\n",
    "# Function to process text and calculate word probability distribution with add-one smoothing\n",
    "def process_text(file_path, exclude_characters=[]):\n",
    "    with open(file_path, 'r', encoding='utf-8') as file:\n",
    "        lines = file.readlines()\n",
    "\n",
    "    # Preprocess text (you may need to adjust this based on your specific requirements)\n",
    "    words = [word.lower() for line in lines for word in line.split() if word.lower() not in exclude_characters]\n",
    "\n",
    "    # Calculate word frequencies with add-one smoothing\n",
    "    word_freq = Counter(words)\n",
    "    total_words = len(words)\n",
    "    prob_dist = {word: (freq + 1) / (total_words + len(word_freq)) for word, freq in word_freq.items()}\n",
    "\n",
    "    return prob_dist\n",
    "\n",
    "# Function to compare characters and calculate KL divergence with add-one smoothing\n",
    "def compare_characters_kl_divergence_smoothed(character1_path, character2_path, exclude_characters=[]):\n",
    "    # Process text for each character (excluding character names)\n",
    "    prob_dist_char1 = process_text(character1_path, exclude_characters)\n",
    "    prob_dist_char2 = process_text(character2_path, exclude_characters)\n",
    "\n",
    "    # Get the unique words from both characters\n",
    "    all_words = set(prob_dist_char1.keys()) | set(prob_dist_char2.keys())\n",
    "\n",
    "    # Create probability distributions for KL divergence calculation\n",
    "    prob_dist1 = np.array([prob_dist_char1.get(word, 0) for word in all_words])\n",
    "    prob_dist2 = np.array([prob_dist_char2.get(word, 0) for word in all_words])\n",
    "\n",
    "    # Calculate KL divergence\n",
    "    divergence = kl_divergence(prob_dist1, prob_dist2)\n",
    "\n",
    "    return divergence\n",
    "\n",
    "# Function to compare characters and calculate KL divergence with add-one smoothing by season\n",
    "def compare_characters_kl_divergence_smoothed_by_season(character_path, seasons, exclude_characters=[]):\n",
    "    # Create a matrix to store KL divergences\n",
    "    divergence_matrix = np.zeros((len(seasons), len(seasons)))\n",
    "\n",
    "    # Compare characters and fill the matrix (excluding character names)\n",
    "    for i, season1 in enumerate(seasons):\n",
    "        for j, season2 in enumerate(seasons):\n",
    "            if i != j:\n",
    "                season1_path = os.path.join(character_path, f'Season_{season1}.txt')\n",
    "                season2_path = os.path.join(character_path, f'Season_{season2}.txt')\n",
    "                divergence_matrix[i, j] = compare_characters_kl_divergence_smoothed(season1_path, season2_path, exclude_characters)\n",
    "\n",
    "    return divergence_matrix\n",
    "\n",
    "# Function to visualize KL divergences in a heatmap\n",
    "def visualize_heatmap(divergence_matrix, seasons):\n",
    "    # Create a heatmap for the KL divergence matrix\n",
    "    plt.figure(figsize=(8, 6))\n",
    "    sns.heatmap(divergence_matrix, annot=True, cmap='viridis', xticklabels=seasons, yticklabels=seasons)\n",
    "    plt.title('KL Divergence Matrix - Chandler\\'s Lines by Season')\n",
    "    plt.show()\n",
    "\n",
    "# Character to analyze\n",
    "character = 'Chandler'\n",
    "\n",
    "# Directory for Chandler's lines by season\n",
    "character_directory = r'C:\\Users\\jesse\\Desktop\\CAA\\By_Season\\Chandler'\n",
    "\n",
    "# Seasons to analyze\n",
    "seasons_to_analyze = list(range(1, 11))\n",
    "\n",
    "# Compare characters by season\n",
    "divergence_matrix = compare_characters_kl_divergence_smoothed_by_season(character_directory, seasons_to_analyze, exclude_characters=[character.lower()])\n",
    "\n",
    "# Visualize the result in a heatmap\n",
    "visualize_heatmap(divergence_matrix, seasons_to_analyze)"
   ]
  }
 ],
 "metadata": {
  "kernelspec": {
   "display_name": "Python 3 (ipykernel)",
   "language": "python",
   "name": "python3"
  },
  "language_info": {
   "codemirror_mode": {
    "name": "ipython",
    "version": 3
   },
   "file_extension": ".py",
   "mimetype": "text/x-python",
   "name": "python",
   "nbconvert_exporter": "python",
   "pygments_lexer": "ipython3",
   "version": "3.11.2"
  }
 },
 "nbformat": 4,
 "nbformat_minor": 5
}
