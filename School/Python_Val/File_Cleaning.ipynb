{
 "cells": [
  {
   "cell_type": "code",
   "execution_count": null,
   "metadata": {},
   "outputs": [],
   "source": [
    "import os"
   ]
  },
  {
   "cell_type": "code",
   "execution_count": null,
   "metadata": {},
   "outputs": [
    {
     "name": "stdout",
     "output_type": "stream",
     "text": [
      "Cleaned file D:/RTUHW/Courses/DH_Semester_2/Python/Texts/Lady_Lucys_Secrets.txt and saved onto D:/RTUHW/Courses/DH_Semester_2/Python/Texts/Lady_Lucys_Secrets_cleaned.txt\n"
     ]
    }
   ],
   "source": [
    "def clean_file(src_file, dest_file, good_text=\"\", bad_text=\"\"):\n",
    "    # open src_file\n",
    "    with open(src_file, 'r', encoding='utf-8') as file:\n",
    "        lines = file.readlines()\n",
    "    \n",
    "    # keep only lines with good text BUT not with bad_text\n",
    "    cleaned_lines = [\n",
    "        line for line in lines\n",
    "        if good_text in line and bad_text not in line\n",
    "    ]\n",
    "    \n",
    "    # save onto dest_file overwritting the existing file there\n",
    "    with open(dest_file, 'w', encoding='utf-8') as file:\n",
    "        file.writelines(cleaned_lines)\n",
    "    \n",
    "    print(f\"Cleaned file {src_file} and saved onto {dest_file}\")\n",
    "\n",
    "# Change the directory if you need (files are within this project folder as well)\n",
    "src_file = r\"D:/RTUHW/Courses/DH_Semester_2/Python/Texts/Lady_Lucys_Secrets.txt\"\n",
    "dest_file = r\"D:/RTUHW/Courses/DH_Semester_2/Python/Texts/Lady_Lucys_Secrets_cleaned.txt\"\n",
    "clean_file(src_file, dest_file, good_text=\"Lucy\", bad_text=\"Bernard\")\n"
   ]
  },
  {
   "cell_type": "code",
   "execution_count": null,
   "metadata": {},
   "outputs": [
    {
     "name": "stdout",
     "output_type": "stream",
     "text": [
      "Cleaned file D:/RTUHW/Courses/DH_Semester_2/Python/Texts/Lady_Lucys_Secrets.txt and saved onto D:/RTUHW/Courses/DH_Semester_2/Python/Texts/Lady_Lucys_Secrets_cleaned.txt\n"
     ]
    }
   ],
   "source": [
    "def clean_file_many(src_file, dest_file, good_texts=(), bad_texts=()):\n",
    "    # open src_file\n",
    "    with open(src_file, 'r', encoding='utf-8') as file:\n",
    "        lines = file.readlines()\n",
    "    \n",
    "    # keep only lines with good text BUT not with bad_text\n",
    "    cleaned_lines = [\n",
    "        line for line in lines\n",
    "        if any(good_text in line for good_text in good_texts) and not any(bad_text in line for bad_text in bad_texts)\n",
    "    ]\n",
    "    \n",
    "    # save onto dest_file overwritting the existing file there\n",
    "    with open(dest_file, 'w', encoding='utf-8') as file:\n",
    "        file.writelines(cleaned_lines)\n",
    "    \n",
    "    print(f\"Cleaned file {src_file} and saved onto {dest_file}\")\n",
    "\n",
    "# Change the directory if you need (files are within this project folder as well)\n",
    "src_file = r\"D:/RTUHW/Courses/DH_Semester_2/Python/Texts/Lady_Lucys_Secrets.txt\" \n",
    "dest_file = r\"D:/RTUHW/Courses/DH_Semester_2/Python/Texts/Lady_Lucys_Secrets_cleaned.txt\" # I am overwriting the cleaned file in the cell above\n",
    "clean_file_many(src_file, dest_file, good_texts=(\"eleven\", \"gold\", \"fine\"), bad_texts=(\"Bernard\", \"banana\"))\n"
   ]
  },
  {
   "cell_type": "code",
   "execution_count": null,
   "metadata": {},
   "outputs": [
    {
     "name": "stdout",
     "output_type": "stream",
     "text": [
      "Cleaned file D:/RTUHW/Courses/DH_Semester_2/Python/Texts/Group\\ProfitablePoultry.txt and saved onto D:/RTUHW/Courses/DH_Semester_2/Python/Texts/Group_Cleaned\\ProfitablePoultry_cleaned.txt\n",
      "Cleaned file D:/RTUHW/Courses/DH_Semester_2/Python/Texts/Group\\Shells.txt and saved onto D:/RTUHW/Courses/DH_Semester_2/Python/Texts/Group_Cleaned\\Shells_cleaned.txt\n",
      "Cleaned file D:/RTUHW/Courses/DH_Semester_2/Python/Texts/Group\\Slangs.txt and saved onto D:/RTUHW/Courses/DH_Semester_2/Python/Texts/Group_Cleaned\\Slangs_cleaned.txt\n",
      "Cleaned files in D:/RTUHW/Courses/DH_Semester_2/Python/Texts/Group and saved onto D:/RTUHW/Courses/DH_Semester_2/Python/Texts/Group_Cleaned\n"
     ]
    }
   ],
   "source": [
    "def clean_folder_many_texts(src_folder, dest_folder, src_postfix=\".txt\", dest_postfix=\"_cleaned.txt\", good_texts=(), bad_texts=()):\n",
    "    # create destination folder\n",
    "    if not os.path.exists(dest_folder):\n",
    "        os.makedirs(dest_folder)\n",
    "    \n",
    "    # get all files with right extension\n",
    "    for file_name in os.listdir(src_folder):\n",
    "        # only process files with src_postfix\n",
    "        if file_name.endswith(src_postfix):\n",
    "            src_file = os.path.join(src_folder, file_name)\n",
    "            dest_file = os.path.join(dest_folder, file_name.replace(src_postfix, dest_postfix))\n",
    "            \n",
    "            # call clean_file_many() function\n",
    "            clean_file_many(src_file, dest_file, good_texts, bad_texts)\n",
    "    \n",
    "    print(f\"Cleaned files in {src_folder} and saved onto {dest_folder}\")\n",
    "\n",
    "def clean_file_many(src_file, dest_file, good_texts=(), bad_texts=()):\n",
    "    # open src_file\n",
    "    with open(src_file, 'r', encoding='utf-8') as file:\n",
    "        lines = file.readlines()\n",
    "    \n",
    "    # keep only lines with any good text BUT not with bad_text\n",
    "    cleaned_lines = [\n",
    "        line for line in lines\n",
    "        if any(good_text in line for good_text in good_texts) and not any(bad_text in line for bad_text in bad_texts)\n",
    "    ]\n",
    "    \n",
    "    # write to the destination file\n",
    "    with open(dest_file, 'w', encoding='utf-8') as file:\n",
    "        file.writelines(cleaned_lines)\n",
    "    \n",
    "    print(f\"Cleaned file {src_file} and saved onto {dest_file}\")\n",
    "\n",
    "# Directories (change it to the directory accordingly)\n",
    "src_folder = r\"D:/RTUHW/Courses/DH_Semester_2/Python/Texts/Group\"  \n",
    "dest_folder = r\"D:/RTUHW/Courses/DH_Semester_2/Python/Texts/Group_Cleaned\"  \n",
    "clean_folder_many_texts(src_folder, dest_folder, good_texts=(\"apple\", \"gold\", \"fine\", \"great\"), bad_texts=(\"Bernard\", \"banana\", \"sickness\"))\n"
   ]
  }
 ],
 "metadata": {
  "kernelspec": {
   "display_name": "sl_tf",
   "language": "python",
   "name": "python3"
  },
  "language_info": {
   "codemirror_mode": {
    "name": "ipython",
    "version": 3
   },
   "file_extension": ".py",
   "mimetype": "text/x-python",
   "name": "python",
   "nbconvert_exporter": "python",
   "pygments_lexer": "ipython3",
   "version": "3.9.18"
  }
 },
 "nbformat": 4,
 "nbformat_minor": 2
}
