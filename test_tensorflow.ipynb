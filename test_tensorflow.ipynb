{
  "nbformat": 4,
  "nbformat_minor": 0,
  "metadata": {
    "colab": {
      "provenance": [],
      "authorship_tag": "ABX9TyNJ1+9+DURM4Z4F5ox6Nr/H",
      "include_colab_link": true
    },
    "kernelspec": {
      "name": "python3",
      "display_name": "Python 3"
    },
    "language_info": {
      "name": "python"
    }
  },
  "cells": [
    {
      "cell_type": "markdown",
      "metadata": {
        "id": "view-in-github",
        "colab_type": "text"
      },
      "source": [
        "<a href=\"https://colab.research.google.com/github/JesseLau24/Self_Learning/blob/main/test_tensorflow.ipynb\" target=\"_parent\"><img src=\"https://colab.research.google.com/assets/colab-badge.svg\" alt=\"Open In Colab\"/></a>"
      ]
    },
    {
      "cell_type": "code",
      "execution_count": 1,
      "metadata": {
        "colab": {
          "base_uri": "https://localhost:8080/"
        },
        "id": "o3AN4EwZjORJ",
        "outputId": "afc80ce2-9ab0-4df1-a720-44f7420848cb"
      },
      "outputs": [
        {
          "output_type": "stream",
          "name": "stdout",
          "text": [
            "hello, world\n"
          ]
        }
      ],
      "source": [
        "print('hello, world')"
      ]
    },
    {
      "cell_type": "code",
      "source": [
        "import tensorflow as tf\n",
        "\n",
        "# 检查 TensorFlow 版本\n",
        "print(\"TensorFlow version:\", tf.__version__)\n",
        "\n",
        "# 检查 TensorFlow 是否检测到 GPU\n",
        "if tf.config.list_physical_devices('GPU'):\n",
        "    print(\"TensorFlow is using the GPU.\")\n",
        "else:\n",
        "    print(\"TensorFlow is using the CPU.\")\n",
        "\n",
        "# 显示设备列表\n",
        "print(\"Devices available:\")\n",
        "for device in tf.config.list_physical_devices():\n",
        "    print(device)\n",
        "\n",
        "# 创建一个简单的张量运算以确认计算设备\n",
        "print(\"\\nTesting a simple tensor operation:\")\n",
        "a = tf.constant([[1.0, 2.0], [3.0, 4.0]])\n",
        "b = tf.constant([[5.0, 6.0], [7.0, 8.0]])\n",
        "c = tf.matmul(a, b)\n",
        "\n",
        "print(\"Result of matrix multiplication:\")\n",
        "print(c.numpy())"
      ],
      "metadata": {
        "colab": {
          "base_uri": "https://localhost:8080/"
        },
        "id": "pucnHVwzjbS1",
        "outputId": "0477989f-133a-4bc2-aa1b-a43f5718b951"
      },
      "execution_count": 2,
      "outputs": [
        {
          "output_type": "stream",
          "name": "stdout",
          "text": [
            "TensorFlow version: 2.17.0\n",
            "TensorFlow is using the CPU.\n",
            "Devices available:\n",
            "PhysicalDevice(name='/physical_device:CPU:0', device_type='CPU')\n",
            "\n",
            "Testing a simple tensor operation:\n",
            "Result of matrix multiplication:\n",
            "[[19. 22.]\n",
            " [43. 50.]]\n"
          ]
        }
      ]
    }
  ]
}